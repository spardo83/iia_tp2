{
 "cells": [
  {
   "cell_type": "markdown",
   "id": "0c23833b",
   "metadata": {},
   "source": [
    "# IIA - TP2"
   ]
  }
 ],
 "metadata": {
  "kernelspec": {
   "display_name": "Python 3",
   "language": "python",
   "name": "python3"
  },
  "language_info": {
   "name": "python",
   "version": "3.11.13"
  }
 },
 "nbformat": 4,
 "nbformat_minor": 5
}
