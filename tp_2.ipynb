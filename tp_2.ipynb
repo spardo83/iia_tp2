{
 "cells": [
  {
   "cell_type": "markdown",
   "id": "0c23833b",
   "metadata": {},
   "source": [
    "# IIA - TP2\n",
    "\n",
    "\n",
    "#### Consigna\n",
    "Se requiere construir un modelo de regresión que permita predecir el valor medio de las casas en distintos distritos de California, EE. UU. (medido en cientos de miles de dólares, es decir, $100,000). Este conjunto de datos proviene del censo de EE. UU. de 1990, donde cada observación corresponde a un bloque. Un bloque es la unidad geográfica más pequeña para la cual la Oficina del Censo de EE. UU. publica datos de muestra, y típicamente tiene una población de entre 600 y 3.000 personas.\n",
    "\n",
    "Los atributos, en el orden en que se presentan en el conjunto de datos, son:\n",
    "\n",
    "- __MedInc:__ Ingreso medio en el bloque\n",
    "- __HouseAge:__ Edad mediana de las casas en el bloque\n",
    "- __AveRooms:__ Número promedio de habitaciones por hogar\n",
    "- __AveBedrms:__ Número promedio de dormitorios por hogar\n",
    "- __Population:__ Población del bloque\n",
    "- __AveOccup:__ Número promedio de personas por hogar\n",
    "- __Latitude:__ Latitud del bloque\n",
    "- __Longitude:__ Longitud del bloque\n",
    "\n",
    "El target es:\n",
    "\n",
    "__MedHouseVal:__ Mediana del valor de las casas en el bloque (en unidades de $100,000)\n",
    "#### Tareas y preguntas a resolver:\n",
    "\n",
    "Obtener la correlación entre los atributos y entre los atributos y el target.\n",
    "* ¿Qué atributo tiene mayor correlación lineal con el target? \n",
    "* ¿Cuáles atributos parecen estar más correlacionados entre sí? Se pueden calcular los coeficientes de correlación o representarlos gráficamente mediante un mapa de calor.\n",
    "* Graficar los histogramas de los distintos atributos y del target. \n",
    "* ¿Qué forma presentan los histogramas?\n",
    "* ¿Alguno muestra una distribución similar a una campana que sugiera una distribución gaussiana, sin necesidad de realizar pruebas de hipótesis?\n",
    "* Calcular una regresión lineal utilizando todos los atributos. \n",
    "* Con el conjunto de entrenamiento, calcular la varianza total de los datos y la varianza explicada por el modelo.\n",
    "* ¿Está el modelo capturando adecuadamente el comportamiento del target? Fundamente su respuesta.\n",
    "* Calcular las métricas de MSE, MAE y R² sobre el conjunto de evaluación.\n",
    "* Crear una regresión de Ridge. \n",
    "* Usar validación cruzada de 5 folds y tomar como métrica el MSE.\n",
    "* Buscar el mejor valor de α en el rango [0, 12.5].\n",
    "* Graficar el MSE en función de α.\n",
    "* Comparar los resultados obtenidos entre la regresión lineal y la mejor regresión de Ridge, evaluando el conjunto de prueba.\n",
    "* ¿Cuál de los dos modelos obtiene mejores resultados en términos de MSE y MAE? ¿Poseen suficiente diferencia como para indicar si uno es mejor que el otro?\n",
    "* ¿Qué tipo de error podría haberse reducido?"
   ]
  },
  {
   "cell_type": "code",
   "execution_count": null,
   "id": "ab1ebb89",
   "metadata": {},
   "outputs": [],
   "source": []
  }
 ],
 "metadata": {
  "kernelspec": {
   "display_name": "Python 3",
   "language": "python",
   "name": "python3"
  },
  "language_info": {
   "name": "python",
   "version": "3.11.13"
  }
 },
 "nbformat": 4,
 "nbformat_minor": 5
}
